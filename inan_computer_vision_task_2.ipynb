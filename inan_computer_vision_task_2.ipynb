{
 "cells": [
  {
   "cell_type": "code",
   "execution_count": 12,
   "id": "53b756af",
   "metadata": {},
   "outputs": [
    {
     "data": {
      "text/plain": [
       "True"
      ]
     },
     "execution_count": 12,
     "metadata": {},
     "output_type": "execute_result"
    }
   ],
   "source": [
    " import cv2\n",
    "import numpy as np\n",
    "import matplotlib.pyplot as plt\n",
    "image = cv2.imread(\"logo.png\")\n",
    "image = cv2.cvtColor(image, cv2.COLOR_BGR2RGB)\n",
    "pixel_values = image.reshape((-1, 3))\n",
    "pixel_values = np.float32(pixel_values)\n",
    "criteria = (cv2.TERM_CRITERIA_EPS + cv2.TERM_CRITERIA_MAX_ITER, 100, 0.2)\n",
    "k = 3\n",
    "_, labels, (centers) = cv2.kmeans(pixel_values, k, None, criteria, 10, cv2.KMEANS_RANDOM_CENTERS)\n",
    "centers = np.uint8(centers)\n",
    "labels = labels.flatten()\n",
    "segmented_image = centers[labels.flatten()]\n",
    "segmented_image = segmented_image.reshape(image.shape)\n",
    "\n",
    "cv2.imwrite(\"segmented.png\", segmented_image)\n",
    "masked_image = np.copy(image)\n",
    "masked_image = masked_image.reshape((-1, 3))\n",
    "cluster = 2\n",
    "masked_image[labels == cluster] = [0, 0, 0]\n",
    "masked_image = masked_image.reshape(image.shape)\n",
    "\n",
    "cv2.imwrite(\"segmented2.png\", masked_image)\n",
    "\n"
   ]
  },
  {
   "cell_type": "code",
   "execution_count": null,
   "id": "146a60fd",
   "metadata": {},
   "outputs": [],
   "source": []
  }
 ],
 "metadata": {
  "kernelspec": {
   "display_name": "Python 3 (ipykernel)",
   "language": "python",
   "name": "python3"
  },
  "language_info": {
   "codemirror_mode": {
    "name": "ipython",
    "version": 3
   },
   "file_extension": ".py",
   "mimetype": "text/x-python",
   "name": "python",
   "nbconvert_exporter": "python",
   "pygments_lexer": "ipython3",
   "version": "3.8.12"
  }
 },
 "nbformat": 4,
 "nbformat_minor": 5
}
