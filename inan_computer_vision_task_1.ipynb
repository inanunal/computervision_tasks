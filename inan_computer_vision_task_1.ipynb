{
 "cells": [
  {
   "cell_type": "code",
   "execution_count": 2,
   "id": "942bcf54",
   "metadata": {},
   "outputs": [],
   "source": [
    "import numpy as np\n",
    "import cv2\n",
    "from matplotlib import pyplot as plt\n",
    "image=cv2.imread(\"inan.jpg\")\n",
    "cv2.imshow('original_image', image)\n",
    "cv2.waitKey(0)\n",
    "cv2.destroyAllWindows()"
   ]
  },
  {
   "cell_type": "code",
   "execution_count": 3,
   "id": "e9a4a366",
   "metadata": {},
   "outputs": [
    {
     "data": {
      "text/plain": [
       "-1"
      ]
     },
     "execution_count": 3,
     "metadata": {},
     "output_type": "execute_result"
    }
   ],
   "source": [
    "gray_image=cv2.cvtColor(image,cv2.COLOR_BGR2GRAY)\n",
    "\n",
    "cv2.imshow('original_image', image)\n",
    "cv2.imshow('grayed_image',gray_image)\n",
    "cv2.waitKey(0)\n"
   ]
  },
  {
   "cell_type": "code",
   "execution_count": 6,
   "id": "703be4c9",
   "metadata": {},
   "outputs": [
    {
     "data": {
      "text/plain": [
       "-1"
      ]
     },
     "execution_count": 6,
     "metadata": {},
     "output_type": "execute_result"
    }
   ],
   "source": [
    "\n",
    "image_neg = 255 - image\n",
    "cv2.imshow('original_image', image)\n",
    "cv2.imshow('negative_contrast',image_neg)\n",
    "cv2.waitKey(0)\n"
   ]
  },
  {
   "cell_type": "code",
   "execution_count": 24,
   "id": "3fdf56aa",
   "metadata": {},
   "outputs": [],
   "source": [
    "image_blurred = cv2.blur(src=image, ksize=(5, 5))\n",
    "cv2.imshow('original_image', image)\n",
    "cv2.imshow('blurred_image', image_blurred)\n",
    "cv2.waitKey()\n",
    "cv2.destroyAllWindows()"
   ]
  },
  {
   "cell_type": "code",
   "execution_count": 34,
   "id": "5f7eaab3",
   "metadata": {},
   "outputs": [
    {
     "data": {
      "text/plain": [
       "-1"
      ]
     },
     "execution_count": 34,
     "metadata": {},
     "output_type": "execute_result"
    }
   ],
   "source": [
    "from __future__ import print_function\n",
    "from builtins import input  \n",
    "#for input image let take f(i,j) its matrix. Then the operation g(i,j)=\\alphaf(i,j)+\\beta gives new image. \n",
    "#In here \\alpha and \\beta are positive constant. \n",
    "alpha = 1.0 # Simple contrast control\n",
    "beta = 0    # Simple brightness control\n",
    "\n",
    "for y in range(image.shape[0]):\n",
    "    for x in range(image.shape[1]):\n",
    "        for c in range(image.shape[2]):\n",
    "            new_image[y,x,c] = np.clip(alpha*image[y,x,c] + beta, 0, 255)\n",
    "cv.imshow('Original Image', image)\n",
    "cv.imshow('New Image', new_image)\n",
    "# Wait until user press some key\n",
    "cv.waitKey()"
   ]
  },
  {
   "cell_type": "markdown",
   "id": "4303b02c",
   "metadata": {},
   "source": [
    "Bu kod sonucunda orijinal resimde değişiklik olmaz. Çünkü g(i,j)=f(i,j) elde edilir. "
   ]
  },
  {
   "cell_type": "code",
   "execution_count": 40,
   "id": "5088d763",
   "metadata": {},
   "outputs": [
    {
     "data": {
      "text/plain": [
       "-1"
      ]
     },
     "execution_count": 40,
     "metadata": {},
     "output_type": "execute_result"
    }
   ],
   "source": [
    "from __future__ import print_function\n",
    "from builtins import input  \n",
    "#for input image let take f(i,j) its matrix. Then the operation g(i,j)=\\alphaf(i,j)+\\beta gives new image. \n",
    "#In here \\alpha and \\beta are positive constant. \n",
    "alpha = 2 # Simple contrast control\n",
    "beta = 1   # Simple brightness control\n",
    "\n",
    "for y in range(image.shape[0]):\n",
    "    for x in range(image.shape[1]):\n",
    "        for c in range(image.shape[2]):\n",
    "            new_image[y,x,c] = np.clip(alpha*image[y,x,c] + beta, 0, 255)\n",
    "cv.imshow('Original Image', image)\n",
    "cv.imshow('New Image', new_image)\n",
    "# Wait until user press some key\n",
    "cv.waitKey()"
   ]
  },
  {
   "cell_type": "markdown",
   "id": "3703a0e6",
   "metadata": {},
   "source": [
    "Alpha parametresi contrastı etkilerken beta parametresi parlaklığı etkiler. Burada contrast iki katına çıkar. "
   ]
  },
  {
   "cell_type": "code",
   "execution_count": 45,
   "id": "1f34d88a",
   "metadata": {},
   "outputs": [
    {
     "data": {
      "text/plain": [
       "-1"
      ]
     },
     "execution_count": 45,
     "metadata": {},
     "output_type": "execute_result"
    }
   ],
   "source": [
    "from __future__ import print_function\n",
    "from builtins import input  \n",
    "#for input image let take f(i,j) its matrix. Then the operation g(i,j)=\\alphaf(i,j)+\\beta gives new image. \n",
    "#In here \\alpha and \\beta are positive constant. \n",
    "alpha = 0.5 # Simple contrast control\n",
    "beta = 1   # Simple brightness control\n",
    "\n",
    "for y in range(image.shape[0]):\n",
    "    for x in range(image.shape[1]):\n",
    "        for c in range(image.shape[2]):\n",
    "            new_image[y,x,c] = np.clip(alpha*image[y,x,c] + beta, 0, 255)\n",
    "cv.imshow('Original Image', image)\n",
    "cv.imshow('New Image', new_image)\n",
    "# Wait until user press some key\n",
    "cv.waitKey()"
   ]
  },
  {
   "cell_type": "markdown",
   "id": "487ee390",
   "metadata": {},
   "source": [
    "Burada kontrast yarıya düşer. "
   ]
  },
  {
   "cell_type": "code",
   "execution_count": 49,
   "id": "d2c4d72c",
   "metadata": {},
   "outputs": [],
   "source": [
    "def gammaCorrection(src, gamma):#(input/255)^(1/gamma)\n",
    "    invGamma = 1 / gamma\n",
    " \n",
    "    table = [((i / 255) ** invGamma) * 255 for i in range(256)] #ouput of gammacorrection equals to ((input/255)^(1/gamma))*255\n",
    "    table = np.array(table, np.uint8)\n",
    " \n",
    "    return cv2.LUT(src, table)\n",
    " \n",
    " \n",
    "img = cv2.imread('inan.jpg')\n",
    "gammaImg = gammaCorrection(img, 3) #gamma=0.33\n",
    " \n",
    "cv2.imshow('Original image', img)\n",
    "cv2.imshow('Gamma corrected image', gammaImg)\n",
    "cv2.waitKey(0)\n",
    "cv2.destroyAllWindows()"
   ]
  },
  {
   "cell_type": "markdown",
   "id": "720cce90",
   "metadata": {},
   "source": [
    "Burada gamma correction kullanılıyor. 1/gamma kuvvetine bağlı olarak resim aydınlanıyor veya kararıyor. . "
   ]
  }
 ],
 "metadata": {
  "kernelspec": {
   "display_name": "Python 3",
   "language": "python",
   "name": "python3"
  },
  "language_info": {
   "codemirror_mode": {
    "name": "ipython",
    "version": 3
   },
   "file_extension": ".py",
   "mimetype": "text/x-python",
   "name": "python",
   "nbconvert_exporter": "python",
   "pygments_lexer": "ipython3",
   "version": "3.8.8"
  }
 },
 "nbformat": 4,
 "nbformat_minor": 5
}
